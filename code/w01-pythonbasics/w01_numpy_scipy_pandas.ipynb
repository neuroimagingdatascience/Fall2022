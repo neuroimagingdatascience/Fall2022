{
 "cells": [
  {
   "cell_type": "code",
   "execution_count": 1,
   "id": "4f3dacea",
   "metadata": {},
   "outputs": [
    {
     "name": "stdout",
     "output_type": "stream",
     "text": [
      "[1 1 2 3 5]\n",
      "The shape of the array is (5,)\n",
      "The dtype of the array is int64\n",
      "The size of each item is 8\n",
      "The strides of the array is (8,)\n"
     ]
    }
   ],
   "source": [
    "# now doing some numpy and looking at some\n",
    "# -----------------------------------------------------------------------------------------------------------------\n",
    "\n",
    "## NUMPY\n",
    "import numpy as np\n",
    "list_of_numbers = [1, 1, 2, 3, 5]\n",
    "arr1 = np.array(list_of_numbers)\n",
    "print(arr1)\n",
    "\n",
    "print(\"The shape of the array is\", arr1.shape)\n",
    "print(\"The dtype of the array is\", arr1.dtype)\n",
    "print(\"The size of each item is\", arr1.itemsize)\n",
    "print(\"The strides of the array is\", arr1.strides)"
   ]
  },
  {
   "cell_type": "code",
   "execution_count": 2,
   "id": "6cbbc4a3",
   "metadata": {},
   "outputs": [
    {
     "name": "stdout",
     "output_type": "stream",
     "text": [
      "[[ 1  1  2  3  5]\n",
      " [ 8 13 21 34 55]]\n",
      "The shape of this array is (2, 5)\n",
      "The dtype of this array is int64\n",
      "The size of each item is 8\n",
      "The strides of this array are (40, 8)\n"
     ]
    }
   ],
   "source": [
    "list_of_lists = [[1,1,2,3,5], [8,13,21,34,55]]\n",
    "arr2 = np.array(list_of_lists)\n",
    "print(arr2)\n",
    "print(\"The shape of this array is\", arr2.shape)\n",
    "print(\"The dtype of this array is\", arr2.dtype)\n",
    "print(\"The size of each item is\", arr2.itemsize)\n",
    "print(\"The strides of this array are\", arr2.strides)"
   ]
  },
  {
   "cell_type": "code",
   "execution_count": null,
   "id": "83f018cc",
   "metadata": {},
   "outputs": [],
   "source": [
    "# now looking at some neuroimaging data \n",
    "# -----------------------------------------------------------------------------------------------------------------"
   ]
  },
  {
   "cell_type": "code",
   "execution_count": 3,
   "id": "611c45ea",
   "metadata": {},
   "outputs": [
    {
     "name": "stdout",
     "output_type": "stream",
     "text": [
      "The shape of the data is (64, 64, 25, 180)\n",
      "The dtype of the data is float64\n",
      "The itemsize of the data is 8\n",
      "The strides of the data is (8, 512, 32768, 819200)\n"
     ]
    }
   ],
   "source": [
    "from ndslib import load_data\n",
    "bold = load_data(\"bold_numpy\", fname=\"bold.npy\")\n",
    "print(\"The shape of the data is\", bold.shape)\n",
    "print(\"The dtype of the data is\", bold.dtype)\n",
    "print(\"The itemsize of the data is\", bold.itemsize)\n",
    "print(\"The strides of the data is\", bold.strides)"
   ]
  },
  {
   "cell_type": "code",
   "execution_count": 7,
   "id": "4cae88f1",
   "metadata": {},
   "outputs": [
    {
     "data": {
      "text/plain": [
       "6.0"
      ]
     },
     "execution_count": 7,
     "metadata": {},
     "output_type": "execute_result"
    }
   ],
   "source": [
    "# single voxel, single time point\n",
    "bold[5,5,20,20]"
   ]
  },
  {
   "cell_type": "code",
   "execution_count": 9,
   "id": "aaab2cae",
   "metadata": {},
   "outputs": [
    {
     "data": {
      "text/plain": [
       "array([1080., 1052., 1056., 1087., 1146., 1147., 1105., 1064., 1128.,\n",
       "       1089., 1095., 1049., 1109., 1051., 1074., 1073., 1112., 1086.,\n",
       "       1090., 1062., 1086., 1023., 1047., 1139., 1065., 1117., 1070.,\n",
       "       1070., 1089., 1074., 1051., 1034., 1096., 1060., 1096., 1076.,\n",
       "       1032., 1067., 1030., 1072., 1056., 1069., 1061., 1054., 1072.,\n",
       "       1072., 1035., 1018., 1116., 1056., 1051., 1084., 1075., 1080.,\n",
       "       1036., 1022., 1076., 1060., 1031., 1079., 1048., 1002., 1055.,\n",
       "       1027., 1014., 1006., 1072., 1003., 1026., 1039., 1096., 1078.,\n",
       "       1025., 1029., 1009., 1065., 1023., 1098., 1045., 1094., 1016.,\n",
       "       1015., 1027., 1020., 1030., 1049., 1034., 1053., 1018., 1038.,\n",
       "       1072., 1020., 1007., 1037., 1082., 1050., 1011., 1027.,  972.,\n",
       "        992.,  984., 1021., 1018., 1029., 1063., 1070., 1033., 1048.,\n",
       "       1052., 1040., 1007.,  996., 1026., 1011., 1023.,  958.,  982.,\n",
       "       1008., 1059., 1006., 1012., 1042., 1000., 1066., 1026., 1032.,\n",
       "       1009., 1022.,  989., 1020., 1078., 1034., 1036.,  976., 1026.,\n",
       "        960., 1021., 1009., 1049., 1029., 1065., 1002., 1007., 1031.,\n",
       "       1015., 1044., 1012.,  999., 1002.,  979.,  965., 1011., 1027.,\n",
       "       1013., 1012., 1022.,  981., 1030., 1061., 1056., 1014.,  957.,\n",
       "        968., 1015., 1100.,  994., 1000.,  973.,  997.,  980., 1026.,\n",
       "       1004., 1008.,  988.,  993., 1042., 1016., 1044., 1002., 1006.])"
      ]
     },
     "execution_count": 9,
     "metadata": {},
     "output_type": "execute_result"
    }
   ],
   "source": [
    "# single voxel, all time points \n",
    "bold[32, 32, 12]"
   ]
  },
  {
   "cell_type": "code",
   "execution_count": 8,
   "id": "6e32205b",
   "metadata": {},
   "outputs": [
    {
     "data": {
      "text/plain": [
       "array([  25.,   77.,  157.,  380.,   71.,  322.,  465.,  778.,  580.,\n",
       "        593.,  373.,  906., 1109.,  464.,  446.,  506.,  536.,  508.,\n",
       "        421.,  351.,  388.,  371.,  347.,  156.,   23.])"
      ]
     },
     "execution_count": 8,
     "metadata": {},
     "output_type": "execute_result"
    }
   ],
   "source": [
    "# all z coordinates for a given time points at x=32, y=32 voxel\n",
    "bold[32, 32, :, 12]"
   ]
  },
  {
   "cell_type": "code",
   "execution_count": 9,
   "id": "c7f63b91",
   "metadata": {},
   "outputs": [
    {
     "data": {
      "image/png": "[encoded data removed]",
      "text/plain": [
       "<Figure size 288x288 with 1 Axes>"
      ]
     },
     "metadata": {
      "needs_background": "light"
     },
     "output_type": "display_data"
    }
   ],
   "source": [
    "# z=10 slice, time point 0\n",
    "import matplotlib.pyplot as mp\n",
    "a = bold[:, :, 10, 0]\n",
    "mp.matshow(a) \n",
    "mp.show()"
   ]
  },
  {
   "cell_type": "code",
   "execution_count": 10,
   "id": "65f5b3ce",
   "metadata": {},
   "outputs": [
    {
     "data": {
      "text/plain": [
       "[<matplotlib.lines.Line2D at 0x11ccceb50>]"
      ]
     },
     "execution_count": 10,
     "metadata": {},
     "output_type": "execute_result"
    },
    {
     "data": {
      "image/png": "[encoded data removed]",
      "text/plain": [
       "<Figure size 432x288 with 1 Axes>"
      ]
     },
     "metadata": {
      "needs_background": "light"
     },
     "output_type": "display_data"
    }
   ],
   "source": [
    "# time series at x/y/z 20/20/20\n",
    "mp.plot(bold[20,20,20,:])"
   ]
  },
  {
   "cell_type": "code",
   "execution_count": 11,
   "id": "3d2d52ac",
   "metadata": {},
   "outputs": [
    {
     "name": "stdout",
     "output_type": "stream",
     "text": [
      "(64, 64, 25, 180)\n",
      "(64, 64, 25, 360)\n"
     ]
    }
   ],
   "source": [
    "# -----------------------------------------------------------------------------------------------------------------\n",
    "## SCIPY, some signal processing \n",
    "import scipy.signal as sps\n",
    "resampled_bold = sps.resample(bold, 360, axis=3)\n",
    "print(bold.shape)\n",
    "print(resampled_bold.shape)"
   ]
  },
  {
   "cell_type": "code",
   "execution_count": 33,
   "id": "900c0d1a",
   "metadata": {},
   "outputs": [
    {
     "data": {
      "text/plain": [
       "[<matplotlib.lines.Line2D at 0x1317b3af0>]"
      ]
     },
     "execution_count": 33,
     "metadata": {},
     "output_type": "execute_result"
    },
    {
     "data": {
      "image/png": "[encoded data removed]",
      "text/plain": [
       "<Figure size 432x288 with 1 Axes>"
      ]
     },
     "metadata": {
      "needs_background": "light"
     },
     "output_type": "display_data"
    }
   ],
   "source": [
    "mp.plot(bold[20,20,20,:])"
   ]
  },
  {
   "cell_type": "code",
   "execution_count": 34,
   "id": "6ea8b075",
   "metadata": {},
   "outputs": [
    {
     "data": {
      "text/plain": [
       "[<matplotlib.lines.Line2D at 0x1316f97c0>]"
      ]
     },
     "execution_count": 34,
     "metadata": {},
     "output_type": "execute_result"
    },
    {
     "data": {
      "image/png": "[encoded data removed]",
      "text/plain": [
       "<Figure size 432x288 with 1 Axes>"
      ]
     },
     "metadata": {
      "needs_background": "light"
     },
     "output_type": "display_data"
    }
   ],
   "source": [
    "mp.plot(resampled_bold[20,20,20,:])"
   ]
  },
  {
   "cell_type": "code",
   "execution_count": 35,
   "id": "b2230d2e",
   "metadata": {},
   "outputs": [],
   "source": [
    "# -----------------------------------------------------------------------------------------------------------------\n",
    "#PANDAS\n",
    "\n",
    "import pandas as pd \n",
    "my_df = pd.DataFrame({  'A': ['A0', 'A1', 'A2', 'A3'],\n",
    "                        'B': ['B0', 'B1', 'B2', 'B3'],\n",
    "                        'C': ['C0', 'C1', 'C2', 'C3']})"
   ]
  },
  {
   "cell_type": "code",
   "execution_count": 9,
   "id": "44983c94",
   "metadata": {},
   "outputs": [
    {
     "data": {
      "text/html": [
       "<div>\n",
       "<style scoped>\n",
       "    .dataframe tbody tr th:only-of-type {\n",
       "        vertical-align: middle;\n",
       "    }\n",
       "\n",
       "    .dataframe tbody tr th {\n",
       "        vertical-align: top;\n",
       "    }\n",
       "\n",
       "    .dataframe thead th {\n",
       "        text-align: right;\n",
       "    }\n",
       "</style>\n",
       "<table border=\"1\" class=\"dataframe\">\n",
       "  <thead>\n",
       "    <tr style=\"text-align: right;\">\n",
       "      <th></th>\n",
       "      <th>A</th>\n",
       "      <th>B</th>\n",
       "      <th>C</th>\n",
       "    </tr>\n",
       "  </thead>\n",
       "  <tbody>\n",
       "    <tr>\n",
       "      <th>0</th>\n",
       "      <td>A0</td>\n",
       "      <td>B0</td>\n",
       "      <td>C0</td>\n",
       "    </tr>\n",
       "    <tr>\n",
       "      <th>1</th>\n",
       "      <td>A1</td>\n",
       "      <td>B1</td>\n",
       "      <td>C1</td>\n",
       "    </tr>\n",
       "    <tr>\n",
       "      <th>2</th>\n",
       "      <td>A2</td>\n",
       "      <td>B2</td>\n",
       "      <td>C2</td>\n",
       "    </tr>\n",
       "    <tr>\n",
       "      <th>3</th>\n",
       "      <td>A3</td>\n",
       "      <td>B3</td>\n",
       "      <td>C3</td>\n",
       "    </tr>\n",
       "  </tbody>\n",
       "</table>\n",
       "</div>"
      ],
      "text/plain": [
       "    A   B   C\n",
       "0  A0  B0  C0\n",
       "1  A1  B1  C1\n",
       "2  A2  B2  C2\n",
       "3  A3  B3  C3"
      ]
     },
     "execution_count": 9,
     "metadata": {},
     "output_type": "execute_result"
    }
   ],
   "source": [
    "my_df"
   ]
  },
  {
   "cell_type": "code",
   "execution_count": 36,
   "id": "66b23275",
   "metadata": {},
   "outputs": [
    {
     "data": {
      "text/html": [
       "<div>\n",
       "<style scoped>\n",
       "    .dataframe tbody tr th:only-of-type {\n",
       "        vertical-align: middle;\n",
       "    }\n",
       "\n",
       "    .dataframe tbody tr th {\n",
       "        vertical-align: top;\n",
       "    }\n",
       "\n",
       "    .dataframe thead th {\n",
       "        text-align: right;\n",
       "    }\n",
       "</style>\n",
       "<table border=\"1\" class=\"dataframe\">\n",
       "  <thead>\n",
       "    <tr style=\"text-align: right;\">\n",
       "      <th></th>\n",
       "      <th>Age</th>\n",
       "      <th>Gender</th>\n",
       "      <th>Handedness</th>\n",
       "      <th>IQ</th>\n",
       "      <th>IQ_Matrix</th>\n",
       "      <th>IQ_Vocab</th>\n",
       "    </tr>\n",
       "    <tr>\n",
       "      <th>subjectID</th>\n",
       "      <th></th>\n",
       "      <th></th>\n",
       "      <th></th>\n",
       "      <th></th>\n",
       "      <th></th>\n",
       "      <th></th>\n",
       "    </tr>\n",
       "  </thead>\n",
       "  <tbody>\n",
       "    <tr>\n",
       "      <th>subject_000</th>\n",
       "      <td>20</td>\n",
       "      <td>Male</td>\n",
       "      <td>NaN</td>\n",
       "      <td>139.0</td>\n",
       "      <td>65.0</td>\n",
       "      <td>77.0</td>\n",
       "    </tr>\n",
       "    <tr>\n",
       "      <th>subject_001</th>\n",
       "      <td>31</td>\n",
       "      <td>Male</td>\n",
       "      <td>NaN</td>\n",
       "      <td>129.0</td>\n",
       "      <td>58.0</td>\n",
       "      <td>74.0</td>\n",
       "    </tr>\n",
       "    <tr>\n",
       "      <th>subject_002</th>\n",
       "      <td>18</td>\n",
       "      <td>Female</td>\n",
       "      <td>NaN</td>\n",
       "      <td>130.0</td>\n",
       "      <td>63.0</td>\n",
       "      <td>70.0</td>\n",
       "    </tr>\n",
       "    <tr>\n",
       "      <th>subject_003</th>\n",
       "      <td>28</td>\n",
       "      <td>Male</td>\n",
       "      <td>Right</td>\n",
       "      <td>NaN</td>\n",
       "      <td>NaN</td>\n",
       "      <td>NaN</td>\n",
       "    </tr>\n",
       "    <tr>\n",
       "      <th>subject_004</th>\n",
       "      <td>29</td>\n",
       "      <td>Male</td>\n",
       "      <td>NaN</td>\n",
       "      <td>NaN</td>\n",
       "      <td>NaN</td>\n",
       "      <td>NaN</td>\n",
       "    </tr>\n",
       "  </tbody>\n",
       "</table>\n",
       "</div>"
      ],
      "text/plain": [
       "             Age  Gender Handedness     IQ  IQ_Matrix  IQ_Vocab\n",
       "subjectID                                                      \n",
       "subject_000   20    Male        NaN  139.0       65.0      77.0\n",
       "subject_001   31    Male        NaN  129.0       58.0      74.0\n",
       "subject_002   18  Female        NaN  130.0       63.0      70.0\n",
       "subject_003   28    Male      Right    NaN        NaN       NaN\n",
       "subject_004   29    Male        NaN    NaN        NaN       NaN"
      ]
     },
     "execution_count": 36,
     "metadata": {},
     "output_type": "execute_result"
    }
   ],
   "source": [
    "subjects = pd.read_csv(\"https://yeatmanlab.github.io/AFQBrowser-demo/data/subjects.csv\",\n",
    "usecols=[1,2,3,4,5,6,7], na_values=\"NaN\", index_col=0)\n",
    "\n",
    "subjects.head()"
   ]
  },
  {
   "cell_type": "code",
   "execution_count": 37,
   "id": "4c8c7582",
   "metadata": {},
   "outputs": [
    {
     "name": "stdout",
     "output_type": "stream",
     "text": [
      "<class 'pandas.core.frame.DataFrame'>\n",
      "Index: 77 entries, subject_000 to subject_076\n",
      "Data columns (total 6 columns):\n",
      " #   Column      Non-Null Count  Dtype  \n",
      "---  ------      --------------  -----  \n",
      " 0   Age         77 non-null     int64  \n",
      " 1   Gender      76 non-null     object \n",
      " 2   Handedness  66 non-null     object \n",
      " 3   IQ          63 non-null     float64\n",
      " 4   IQ_Matrix   63 non-null     float64\n",
      " 5   IQ_Vocab    63 non-null     float64\n",
      "dtypes: float64(3), int64(1), object(2)\n",
      "memory usage: 4.2+ KB\n"
     ]
    }
   ],
   "source": [
    "subjects.info()"
   ]
  },
  {
   "cell_type": "code",
   "execution_count": 38,
   "id": "46cdcf35",
   "metadata": {},
   "outputs": [
    {
     "data": {
      "text/html": [
       "<div>\n",
       "<style scoped>\n",
       "    .dataframe tbody tr th:only-of-type {\n",
       "        vertical-align: middle;\n",
       "    }\n",
       "\n",
       "    .dataframe tbody tr th {\n",
       "        vertical-align: top;\n",
       "    }\n",
       "\n",
       "    .dataframe thead th {\n",
       "        text-align: right;\n",
       "    }\n",
       "</style>\n",
       "<table border=\"1\" class=\"dataframe\">\n",
       "  <thead>\n",
       "    <tr style=\"text-align: right;\">\n",
       "      <th></th>\n",
       "      <th>Age</th>\n",
       "      <th>IQ</th>\n",
       "      <th>IQ_Matrix</th>\n",
       "      <th>IQ_Vocab</th>\n",
       "    </tr>\n",
       "  </thead>\n",
       "  <tbody>\n",
       "    <tr>\n",
       "      <th>count</th>\n",
       "      <td>77.000000</td>\n",
       "      <td>63.000000</td>\n",
       "      <td>63.000000</td>\n",
       "      <td>63.000000</td>\n",
       "    </tr>\n",
       "    <tr>\n",
       "      <th>mean</th>\n",
       "      <td>18.961039</td>\n",
       "      <td>122.142857</td>\n",
       "      <td>60.539683</td>\n",
       "      <td>64.015873</td>\n",
       "    </tr>\n",
       "    <tr>\n",
       "      <th>std</th>\n",
       "      <td>12.246849</td>\n",
       "      <td>12.717599</td>\n",
       "      <td>7.448372</td>\n",
       "      <td>8.125015</td>\n",
       "    </tr>\n",
       "    <tr>\n",
       "      <th>min</th>\n",
       "      <td>6.000000</td>\n",
       "      <td>92.000000</td>\n",
       "      <td>41.000000</td>\n",
       "      <td>36.000000</td>\n",
       "    </tr>\n",
       "    <tr>\n",
       "      <th>25%</th>\n",
       "      <td>9.000000</td>\n",
       "      <td>114.000000</td>\n",
       "      <td>57.000000</td>\n",
       "      <td>60.000000</td>\n",
       "    </tr>\n",
       "    <tr>\n",
       "      <th>50%</th>\n",
       "      <td>14.000000</td>\n",
       "      <td>122.000000</td>\n",
       "      <td>61.000000</td>\n",
       "      <td>64.000000</td>\n",
       "    </tr>\n",
       "    <tr>\n",
       "      <th>75%</th>\n",
       "      <td>28.000000</td>\n",
       "      <td>130.000000</td>\n",
       "      <td>64.500000</td>\n",
       "      <td>70.000000</td>\n",
       "    </tr>\n",
       "    <tr>\n",
       "      <th>max</th>\n",
       "      <td>50.000000</td>\n",
       "      <td>151.000000</td>\n",
       "      <td>76.000000</td>\n",
       "      <td>80.000000</td>\n",
       "    </tr>\n",
       "  </tbody>\n",
       "</table>\n",
       "</div>"
      ],
      "text/plain": [
       "             Age          IQ  IQ_Matrix   IQ_Vocab\n",
       "count  77.000000   63.000000  63.000000  63.000000\n",
       "mean   18.961039  122.142857  60.539683  64.015873\n",
       "std    12.246849   12.717599   7.448372   8.125015\n",
       "min     6.000000   92.000000  41.000000  36.000000\n",
       "25%     9.000000  114.000000  57.000000  60.000000\n",
       "50%    14.000000  122.000000  61.000000  64.000000\n",
       "75%    28.000000  130.000000  64.500000  70.000000\n",
       "max    50.000000  151.000000  76.000000  80.000000"
      ]
     },
     "execution_count": 38,
     "metadata": {},
     "output_type": "execute_result"
    }
   ],
   "source": [
    "subjects.describe()"
   ]
  },
  {
   "cell_type": "code",
   "execution_count": 14,
   "id": "e8dc1688",
   "metadata": {},
   "outputs": [
    {
     "data": {
      "text/plain": [
       "Age              20\n",
       "Gender         Male\n",
       "Handedness      NaN\n",
       "IQ            139.0\n",
       "IQ_Matrix      65.0\n",
       "IQ_Vocab       77.0\n",
       "Name: subject_000, dtype: object"
      ]
     },
     "execution_count": 14,
     "metadata": {},
     "output_type": "execute_result"
    }
   ],
   "source": [
    "subjects.loc[\"subject_000\"]"
   ]
  },
  {
   "cell_type": "code",
   "execution_count": 15,
   "id": "3853aa85",
   "metadata": {},
   "outputs": [
    {
     "data": {
      "text/plain": [
       "Age              20\n",
       "Gender         Male\n",
       "Handedness      NaN\n",
       "IQ            139.0\n",
       "IQ_Matrix      65.0\n",
       "IQ_Vocab       77.0\n",
       "Name: subject_000, dtype: object"
      ]
     },
     "execution_count": 15,
     "metadata": {},
     "output_type": "execute_result"
    }
   ],
   "source": [
    "subjects.iloc[0]"
   ]
  },
  {
   "cell_type": "code",
   "execution_count": 16,
   "id": "6b593dec",
   "metadata": {},
   "outputs": [
    {
     "data": {
      "text/plain": [
       "Handedness      NaN\n",
       "IQ            139.0\n",
       "IQ_Matrix      65.0\n",
       "Name: subject_000, dtype: object"
      ]
     },
     "execution_count": 16,
     "metadata": {},
     "output_type": "execute_result"
    }
   ],
   "source": [
    "subjects.iloc[0, 2:5]"
   ]
  },
  {
   "cell_type": "code",
   "execution_count": 17,
   "id": "cdc7eac3",
   "metadata": {},
   "outputs": [
    {
     "data": {
      "text/plain": [
       "subjectID\n",
       "subject_000    20\n",
       "subject_001    31\n",
       "subject_002    18\n",
       "subject_003    28\n",
       "subject_004    29\n",
       "               ..\n",
       "subject_072    40\n",
       "subject_073    50\n",
       "subject_074    40\n",
       "subject_075    17\n",
       "subject_076    17\n",
       "Name: Age, Length: 77, dtype: int64"
      ]
     },
     "execution_count": 17,
     "metadata": {},
     "output_type": "execute_result"
    }
   ],
   "source": [
    "subjects[\"Age\"]"
   ]
  },
  {
   "cell_type": "code",
   "execution_count": 20,
   "id": "a653f827",
   "metadata": {},
   "outputs": [
    {
     "data": {
      "text/plain": [
       "count    77.000000\n",
       "mean     18.961039\n",
       "std      12.246849\n",
       "min       6.000000\n",
       "25%       9.000000\n",
       "50%      14.000000\n",
       "75%      28.000000\n",
       "max      50.000000\n",
       "Name: Age, dtype: float64"
      ]
     },
     "execution_count": 20,
     "metadata": {},
     "output_type": "execute_result"
    }
   ],
   "source": [
    "d = subjects[\"Age\"]\n",
    "d.describe()"
   ]
  },
  {
   "cell_type": "code",
   "execution_count": 23,
   "id": "2ca49bb7",
   "metadata": {},
   "outputs": [
    {
     "name": "stdout",
     "output_type": "stream",
     "text": [
      "Age           18.961039\n",
      "IQ           122.142857\n",
      "IQ_Matrix     60.539683\n",
      "IQ_Vocab      64.015873\n",
      "dtype: float64\n"
     ]
    }
   ],
   "source": [
    "means = subjects.mean(numeric_only=True)\n",
    "print(means)"
   ]
  },
  {
   "cell_type": "code",
   "execution_count": 27,
   "id": "fbfc716a",
   "metadata": {},
   "outputs": [
    {
     "name": "stdout",
     "output_type": "stream",
     "text": [
      "18.961038961038962\n",
      "12.24684874445319\n"
     ]
    }
   ],
   "source": [
    "age_mean = subjects['Age'].mean()\n",
    "age_sd = subjects['Age'].std()\n",
    "print(age_mean)\n",
    "print(age_sd)"
   ]
  },
  {
   "cell_type": "code",
   "execution_count": 30,
   "id": "a71a51ba",
   "metadata": {},
   "outputs": [
    {
     "data": {
      "text/html": [
       "<div>\n",
       "<style scoped>\n",
       "    .dataframe tbody tr th:only-of-type {\n",
       "        vertical-align: middle;\n",
       "    }\n",
       "\n",
       "    .dataframe tbody tr th {\n",
       "        vertical-align: top;\n",
       "    }\n",
       "\n",
       "    .dataframe thead th {\n",
       "        text-align: right;\n",
       "    }\n",
       "</style>\n",
       "<table border=\"1\" class=\"dataframe\">\n",
       "  <thead>\n",
       "    <tr style=\"text-align: right;\">\n",
       "      <th></th>\n",
       "      <th>Age</th>\n",
       "      <th>Gender</th>\n",
       "      <th>Handedness</th>\n",
       "      <th>IQ</th>\n",
       "      <th>IQ_Matrix</th>\n",
       "      <th>IQ_Vocab</th>\n",
       "      <th>Age_z</th>\n",
       "    </tr>\n",
       "    <tr>\n",
       "      <th>subjectID</th>\n",
       "      <th></th>\n",
       "      <th></th>\n",
       "      <th></th>\n",
       "      <th></th>\n",
       "      <th></th>\n",
       "      <th></th>\n",
       "      <th></th>\n",
       "    </tr>\n",
       "  </thead>\n",
       "  <tbody>\n",
       "    <tr>\n",
       "      <th>subject_000</th>\n",
       "      <td>20</td>\n",
       "      <td>Male</td>\n",
       "      <td>NaN</td>\n",
       "      <td>139.0</td>\n",
       "      <td>65.0</td>\n",
       "      <td>77.0</td>\n",
       "      <td>0.084835</td>\n",
       "    </tr>\n",
       "    <tr>\n",
       "      <th>subject_001</th>\n",
       "      <td>31</td>\n",
       "      <td>Male</td>\n",
       "      <td>NaN</td>\n",
       "      <td>129.0</td>\n",
       "      <td>58.0</td>\n",
       "      <td>74.0</td>\n",
       "      <td>0.983025</td>\n",
       "    </tr>\n",
       "    <tr>\n",
       "      <th>subject_002</th>\n",
       "      <td>18</td>\n",
       "      <td>Female</td>\n",
       "      <td>NaN</td>\n",
       "      <td>130.0</td>\n",
       "      <td>63.0</td>\n",
       "      <td>70.0</td>\n",
       "      <td>-0.078472</td>\n",
       "    </tr>\n",
       "    <tr>\n",
       "      <th>subject_003</th>\n",
       "      <td>28</td>\n",
       "      <td>Male</td>\n",
       "      <td>Right</td>\n",
       "      <td>NaN</td>\n",
       "      <td>NaN</td>\n",
       "      <td>NaN</td>\n",
       "      <td>0.738064</td>\n",
       "    </tr>\n",
       "    <tr>\n",
       "      <th>subject_004</th>\n",
       "      <td>29</td>\n",
       "      <td>Male</td>\n",
       "      <td>NaN</td>\n",
       "      <td>NaN</td>\n",
       "      <td>NaN</td>\n",
       "      <td>NaN</td>\n",
       "      <td>0.819718</td>\n",
       "    </tr>\n",
       "  </tbody>\n",
       "</table>\n",
       "</div>"
      ],
      "text/plain": [
       "             Age  Gender Handedness     IQ  IQ_Matrix  IQ_Vocab     Age_z\n",
       "subjectID                                                                \n",
       "subject_000   20    Male        NaN  139.0       65.0      77.0  0.084835\n",
       "subject_001   31    Male        NaN  129.0       58.0      74.0  0.983025\n",
       "subject_002   18  Female        NaN  130.0       63.0      70.0 -0.078472\n",
       "subject_003   28    Male      Right    NaN        NaN       NaN  0.738064\n",
       "subject_004   29    Male        NaN    NaN        NaN       NaN  0.819718"
      ]
     },
     "execution_count": 30,
     "metadata": {},
     "output_type": "execute_result"
    }
   ],
   "source": [
    "#z-scoring \n",
    "subjects[\"Age_z\"] = (subjects[\"Age\"] - age_mean ) / age_sd\n",
    "subjects.head()"
   ]
  },
  {
   "cell_type": "code",
   "execution_count": 31,
   "id": "b25b5cc8",
   "metadata": {},
   "outputs": [
    {
     "name": "stdout",
     "output_type": "stream",
     "text": [
      "subjectID\n",
      "subject_000    False\n",
      "subject_001    False\n",
      "subject_002    False\n",
      "subject_003    False\n",
      "subject_004    False\n",
      "               ...  \n",
      "subject_072    False\n",
      "subject_073    False\n",
      "subject_074    False\n",
      "subject_075    False\n",
      "subject_076    False\n",
      "Name: age_less_than_10, Length: 77, dtype: bool\n"
     ]
    }
   ],
   "source": [
    "subjects[\"age_less_than_10\"] = subjects[\"Age\"] < 10\n",
    "print(subjects[\"age_less_than_10\"])"
   ]
  },
  {
   "cell_type": "code",
   "execution_count": 32,
   "id": "cd884022",
   "metadata": {},
   "outputs": [
    {
     "data": {
      "text/html": [
       "<div>\n",
       "<style scoped>\n",
       "    .dataframe tbody tr th:only-of-type {\n",
       "        vertical-align: middle;\n",
       "    }\n",
       "\n",
       "    .dataframe tbody tr th {\n",
       "        vertical-align: top;\n",
       "    }\n",
       "\n",
       "    .dataframe thead th {\n",
       "        text-align: right;\n",
       "    }\n",
       "</style>\n",
       "<table border=\"1\" class=\"dataframe\">\n",
       "  <thead>\n",
       "    <tr style=\"text-align: right;\">\n",
       "      <th></th>\n",
       "      <th>Age</th>\n",
       "      <th>Gender</th>\n",
       "      <th>Handedness</th>\n",
       "      <th>IQ</th>\n",
       "      <th>IQ_Matrix</th>\n",
       "      <th>IQ_Vocab</th>\n",
       "      <th>Age_z</th>\n",
       "      <th>age_less_than_10</th>\n",
       "    </tr>\n",
       "    <tr>\n",
       "      <th>subjectID</th>\n",
       "      <th></th>\n",
       "      <th></th>\n",
       "      <th></th>\n",
       "      <th></th>\n",
       "      <th></th>\n",
       "      <th></th>\n",
       "      <th></th>\n",
       "      <th></th>\n",
       "    </tr>\n",
       "  </thead>\n",
       "  <tbody>\n",
       "    <tr>\n",
       "      <th>subject_024</th>\n",
       "      <td>9</td>\n",
       "      <td>Male</td>\n",
       "      <td>Right</td>\n",
       "      <td>142.0</td>\n",
       "      <td>72.0</td>\n",
       "      <td>73.0</td>\n",
       "      <td>-0.813355</td>\n",
       "      <td>True</td>\n",
       "    </tr>\n",
       "    <tr>\n",
       "      <th>subject_026</th>\n",
       "      <td>8</td>\n",
       "      <td>Male</td>\n",
       "      <td>Right</td>\n",
       "      <td>125.0</td>\n",
       "      <td>67.0</td>\n",
       "      <td>61.0</td>\n",
       "      <td>-0.895009</td>\n",
       "      <td>True</td>\n",
       "    </tr>\n",
       "    <tr>\n",
       "      <th>subject_028</th>\n",
       "      <td>7</td>\n",
       "      <td>Male</td>\n",
       "      <td>Right</td>\n",
       "      <td>146.0</td>\n",
       "      <td>76.0</td>\n",
       "      <td>73.0</td>\n",
       "      <td>-0.976663</td>\n",
       "      <td>True</td>\n",
       "    </tr>\n",
       "    <tr>\n",
       "      <th>subject_029</th>\n",
       "      <td>8</td>\n",
       "      <td>Female</td>\n",
       "      <td>Right</td>\n",
       "      <td>107.0</td>\n",
       "      <td>57.0</td>\n",
       "      <td>51.0</td>\n",
       "      <td>-0.895009</td>\n",
       "      <td>True</td>\n",
       "    </tr>\n",
       "    <tr>\n",
       "      <th>subject_033</th>\n",
       "      <td>9</td>\n",
       "      <td>Male</td>\n",
       "      <td>Right</td>\n",
       "      <td>132.0</td>\n",
       "      <td>64.0</td>\n",
       "      <td>71.0</td>\n",
       "      <td>-0.813355</td>\n",
       "      <td>True</td>\n",
       "    </tr>\n",
       "  </tbody>\n",
       "</table>\n",
       "</div>"
      ],
      "text/plain": [
       "             Age  Gender Handedness     IQ  IQ_Matrix  IQ_Vocab     Age_z  \\\n",
       "subjectID                                                                   \n",
       "subject_024    9    Male      Right  142.0       72.0      73.0 -0.813355   \n",
       "subject_026    8    Male      Right  125.0       67.0      61.0 -0.895009   \n",
       "subject_028    7    Male      Right  146.0       76.0      73.0 -0.976663   \n",
       "subject_029    8  Female      Right  107.0       57.0      51.0 -0.895009   \n",
       "subject_033    9    Male      Right  132.0       64.0      71.0 -0.813355   \n",
       "\n",
       "             age_less_than_10  \n",
       "subjectID                      \n",
       "subject_024              True  \n",
       "subject_026              True  \n",
       "subject_028              True  \n",
       "subject_029              True  \n",
       "subject_033              True  "
      ]
     },
     "execution_count": 32,
     "metadata": {},
     "output_type": "execute_result"
    }
   ],
   "source": [
    "subjects_less_than_10 = subjects[subjects[\"age_less_than_10\"]]\n",
    "subjects_less_than_10.head()"
   ]
  },
  {
   "cell_type": "code",
   "execution_count": 33,
   "id": "7ac48b51",
   "metadata": {},
   "outputs": [
    {
     "data": {
      "text/html": [
       "<div>\n",
       "<style scoped>\n",
       "    .dataframe tbody tr th:only-of-type {\n",
       "        vertical-align: middle;\n",
       "    }\n",
       "\n",
       "    .dataframe tbody tr th {\n",
       "        vertical-align: top;\n",
       "    }\n",
       "\n",
       "    .dataframe thead th {\n",
       "        text-align: right;\n",
       "    }\n",
       "</style>\n",
       "<table border=\"1\" class=\"dataframe\">\n",
       "  <thead>\n",
       "    <tr style=\"text-align: right;\">\n",
       "      <th></th>\n",
       "      <th>Age</th>\n",
       "      <th>IQ</th>\n",
       "      <th>IQ_Matrix</th>\n",
       "      <th>IQ_Vocab</th>\n",
       "      <th>Age_z</th>\n",
       "    </tr>\n",
       "  </thead>\n",
       "  <tbody>\n",
       "    <tr>\n",
       "      <th>count</th>\n",
       "      <td>25.000000</td>\n",
       "      <td>24.00000</td>\n",
       "      <td>24.000000</td>\n",
       "      <td>24.000000</td>\n",
       "      <td>25.000000</td>\n",
       "    </tr>\n",
       "    <tr>\n",
       "      <th>mean</th>\n",
       "      <td>8.320000</td>\n",
       "      <td>126.62500</td>\n",
       "      <td>62.541667</td>\n",
       "      <td>66.625000</td>\n",
       "      <td>-0.868880</td>\n",
       "    </tr>\n",
       "    <tr>\n",
       "      <th>std</th>\n",
       "      <td>0.802081</td>\n",
       "      <td>14.48181</td>\n",
       "      <td>8.607273</td>\n",
       "      <td>8.026112</td>\n",
       "      <td>0.065493</td>\n",
       "    </tr>\n",
       "    <tr>\n",
       "      <th>min</th>\n",
       "      <td>6.000000</td>\n",
       "      <td>92.00000</td>\n",
       "      <td>41.000000</td>\n",
       "      <td>50.000000</td>\n",
       "      <td>-1.058316</td>\n",
       "    </tr>\n",
       "    <tr>\n",
       "      <th>25%</th>\n",
       "      <td>8.000000</td>\n",
       "      <td>119.00000</td>\n",
       "      <td>57.750000</td>\n",
       "      <td>61.750000</td>\n",
       "      <td>-0.895009</td>\n",
       "    </tr>\n",
       "    <tr>\n",
       "      <th>50%</th>\n",
       "      <td>8.000000</td>\n",
       "      <td>127.50000</td>\n",
       "      <td>63.500000</td>\n",
       "      <td>68.000000</td>\n",
       "      <td>-0.895009</td>\n",
       "    </tr>\n",
       "    <tr>\n",
       "      <th>75%</th>\n",
       "      <td>9.000000</td>\n",
       "      <td>138.00000</td>\n",
       "      <td>68.000000</td>\n",
       "      <td>72.250000</td>\n",
       "      <td>-0.813355</td>\n",
       "    </tr>\n",
       "    <tr>\n",
       "      <th>max</th>\n",
       "      <td>9.000000</td>\n",
       "      <td>151.00000</td>\n",
       "      <td>76.000000</td>\n",
       "      <td>80.000000</td>\n",
       "      <td>-0.813355</td>\n",
       "    </tr>\n",
       "  </tbody>\n",
       "</table>\n",
       "</div>"
      ],
      "text/plain": [
       "             Age         IQ  IQ_Matrix   IQ_Vocab      Age_z\n",
       "count  25.000000   24.00000  24.000000  24.000000  25.000000\n",
       "mean    8.320000  126.62500  62.541667  66.625000  -0.868880\n",
       "std     0.802081   14.48181   8.607273   8.026112   0.065493\n",
       "min     6.000000   92.00000  41.000000  50.000000  -1.058316\n",
       "25%     8.000000  119.00000  57.750000  61.750000  -0.895009\n",
       "50%     8.000000  127.50000  63.500000  68.000000  -0.895009\n",
       "75%     9.000000  138.00000  68.000000  72.250000  -0.813355\n",
       "max     9.000000  151.00000  76.000000  80.000000  -0.813355"
      ]
     },
     "execution_count": 33,
     "metadata": {},
     "output_type": "execute_result"
    }
   ],
   "source": [
    "subjects_less_than_10.describe()"
   ]
  },
  {
   "cell_type": "code",
   "execution_count": 34,
   "id": "10d9ae95",
   "metadata": {},
   "outputs": [
    {
     "data": {
      "text/html": [
       "<div>\n",
       "<style scoped>\n",
       "    .dataframe tbody tr th:only-of-type {\n",
       "        vertical-align: middle;\n",
       "    }\n",
       "\n",
       "    .dataframe tbody tr th {\n",
       "        vertical-align: top;\n",
       "    }\n",
       "\n",
       "    .dataframe thead th {\n",
       "        text-align: right;\n",
       "    }\n",
       "</style>\n",
       "<table border=\"1\" class=\"dataframe\">\n",
       "  <thead>\n",
       "    <tr style=\"text-align: right;\">\n",
       "      <th></th>\n",
       "      <th></th>\n",
       "      <th>Age</th>\n",
       "      <th>Handedness</th>\n",
       "      <th>IQ</th>\n",
       "      <th>IQ_Matrix</th>\n",
       "      <th>IQ_Vocab</th>\n",
       "      <th>Age_z</th>\n",
       "    </tr>\n",
       "    <tr>\n",
       "      <th>Gender</th>\n",
       "      <th>age_less_than_10</th>\n",
       "      <th></th>\n",
       "      <th></th>\n",
       "      <th></th>\n",
       "      <th></th>\n",
       "      <th></th>\n",
       "      <th></th>\n",
       "    </tr>\n",
       "  </thead>\n",
       "  <tbody>\n",
       "    <tr>\n",
       "      <th rowspan=\"2\" valign=\"top\">Male</th>\n",
       "      <th>False</th>\n",
       "      <td>20</td>\n",
       "      <td>NaN</td>\n",
       "      <td>139.0</td>\n",
       "      <td>65.0</td>\n",
       "      <td>77.0</td>\n",
       "      <td>0.084835</td>\n",
       "    </tr>\n",
       "    <tr>\n",
       "      <th>False</th>\n",
       "      <td>31</td>\n",
       "      <td>NaN</td>\n",
       "      <td>129.0</td>\n",
       "      <td>58.0</td>\n",
       "      <td>74.0</td>\n",
       "      <td>0.983025</td>\n",
       "    </tr>\n",
       "    <tr>\n",
       "      <th>Female</th>\n",
       "      <th>False</th>\n",
       "      <td>18</td>\n",
       "      <td>NaN</td>\n",
       "      <td>130.0</td>\n",
       "      <td>63.0</td>\n",
       "      <td>70.0</td>\n",
       "      <td>-0.078472</td>\n",
       "    </tr>\n",
       "    <tr>\n",
       "      <th rowspan=\"2\" valign=\"top\">Male</th>\n",
       "      <th>False</th>\n",
       "      <td>28</td>\n",
       "      <td>Right</td>\n",
       "      <td>NaN</td>\n",
       "      <td>NaN</td>\n",
       "      <td>NaN</td>\n",
       "      <td>0.738064</td>\n",
       "    </tr>\n",
       "    <tr>\n",
       "      <th>False</th>\n",
       "      <td>29</td>\n",
       "      <td>NaN</td>\n",
       "      <td>NaN</td>\n",
       "      <td>NaN</td>\n",
       "      <td>NaN</td>\n",
       "      <td>0.819718</td>\n",
       "    </tr>\n",
       "  </tbody>\n",
       "</table>\n",
       "</div>"
      ],
      "text/plain": [
       "                         Age Handedness     IQ  IQ_Matrix  IQ_Vocab     Age_z\n",
       "Gender age_less_than_10                                                      \n",
       "Male   False              20        NaN  139.0       65.0      77.0  0.084835\n",
       "       False              31        NaN  129.0       58.0      74.0  0.983025\n",
       "Female False              18        NaN  130.0       63.0      70.0 -0.078472\n",
       "Male   False              28      Right    NaN        NaN       NaN  0.738064\n",
       "       False              29        NaN    NaN        NaN       NaN  0.819718"
      ]
     },
     "execution_count": 34,
     "metadata": {},
     "output_type": "execute_result"
    }
   ],
   "source": [
    "multi_index = subjects.set_index([\"Gender\", \"age_less_than_10\"])\n",
    "multi_index.head()"
   ]
  },
  {
   "cell_type": "code",
   "execution_count": 35,
   "id": "6cc082bf",
   "metadata": {},
   "outputs": [
    {
     "name": "stderr",
     "output_type": "stream",
     "text": [
      "/var/folders/1j/hnn3hqs52jl018dnp7mjl6kw0000gn/T/ipykernel_35319/2811830132.py:1: PerformanceWarning: indexing past lexsort depth may impact performance.\n",
      "  multi_index.loc[\"Male\", True].mean(numeric_only=True)\n"
     ]
    },
    {
     "data": {
      "text/plain": [
       "Age            8.285714\n",
       "IQ           125.642857\n",
       "IQ_Matrix     62.071429\n",
       "IQ_Vocab      66.000000\n",
       "Age_z         -0.871679\n",
       "dtype: float64"
      ]
     },
     "execution_count": 35,
     "metadata": {},
     "output_type": "execute_result"
    }
   ],
   "source": [
    "multi_index.loc[\"Male\", True].mean(numeric_only=True)"
   ]
  },
  {
   "cell_type": "code",
   "execution_count": 36,
   "id": "565809bf",
   "metadata": {},
   "outputs": [
    {
     "name": "stderr",
     "output_type": "stream",
     "text": [
      "/var/folders/1j/hnn3hqs52jl018dnp7mjl6kw0000gn/T/ipykernel_35319/863169533.py:1: PerformanceWarning: indexing past lexsort depth may impact performance.\n",
      "  multi_index.loc[\"Female\", False].mean(numeric_only=True)\n"
     ]
    },
    {
     "data": {
      "text/plain": [
       "Age           22.576923\n",
       "IQ           117.095238\n",
       "IQ_Matrix     57.619048\n",
       "IQ_Vocab      61.619048\n",
       "Age_z          0.295250\n",
       "dtype: float64"
      ]
     },
     "execution_count": 36,
     "metadata": {},
     "output_type": "execute_result"
    }
   ],
   "source": [
    "multi_index.loc[\"Female\", False].mean(numeric_only=True)"
   ]
  },
  {
   "cell_type": "code",
   "execution_count": 38,
   "id": "1ca39704",
   "metadata": {},
   "outputs": [
    {
     "data": {
      "text/html": [
       "<div>\n",
       "<style scoped>\n",
       "    .dataframe tbody tr th:only-of-type {\n",
       "        vertical-align: middle;\n",
       "    }\n",
       "\n",
       "    .dataframe tbody tr th {\n",
       "        vertical-align: top;\n",
       "    }\n",
       "\n",
       "    .dataframe thead th {\n",
       "        text-align: right;\n",
       "    }\n",
       "</style>\n",
       "<table border=\"1\" class=\"dataframe\">\n",
       "  <thead>\n",
       "    <tr style=\"text-align: right;\">\n",
       "      <th></th>\n",
       "      <th>Age</th>\n",
       "      <th>IQ</th>\n",
       "      <th>IQ_Matrix</th>\n",
       "      <th>IQ_Vocab</th>\n",
       "      <th>Age_z</th>\n",
       "      <th>age_less_than_10</th>\n",
       "    </tr>\n",
       "    <tr>\n",
       "      <th>Gender</th>\n",
       "      <th></th>\n",
       "      <th></th>\n",
       "      <th></th>\n",
       "      <th></th>\n",
       "      <th></th>\n",
       "      <th></th>\n",
       "    </tr>\n",
       "  </thead>\n",
       "  <tbody>\n",
       "    <tr>\n",
       "      <th>Female</th>\n",
       "      <td>18.351351</td>\n",
       "      <td>120.612903</td>\n",
       "      <td>59.419355</td>\n",
       "      <td>63.516129</td>\n",
       "      <td>-0.049783</td>\n",
       "      <td>0.297297</td>\n",
       "    </tr>\n",
       "    <tr>\n",
       "      <th>Male</th>\n",
       "      <td>18.743590</td>\n",
       "      <td>123.625000</td>\n",
       "      <td>61.625000</td>\n",
       "      <td>64.500000</td>\n",
       "      <td>-0.017756</td>\n",
       "      <td>0.358974</td>\n",
       "    </tr>\n",
       "  </tbody>\n",
       "</table>\n",
       "</div>"
      ],
      "text/plain": [
       "              Age          IQ  IQ_Matrix   IQ_Vocab     Age_z  \\\n",
       "Gender                                                          \n",
       "Female  18.351351  120.612903  59.419355  63.516129 -0.049783   \n",
       "Male    18.743590  123.625000  61.625000  64.500000 -0.017756   \n",
       "\n",
       "        age_less_than_10  \n",
       "Gender                    \n",
       "Female          0.297297  \n",
       "Male            0.358974  "
      ]
     },
     "execution_count": 38,
     "metadata": {},
     "output_type": "execute_result"
    }
   ],
   "source": [
    "gender_groups = subjects.groupby(\"Gender\")\n",
    "gender_groups.mean()"
   ]
  },
  {
   "cell_type": "code",
   "execution_count": 39,
   "id": "074a1cd5",
   "metadata": {},
   "outputs": [
    {
     "data": {
      "text/html": [
       "<div>\n",
       "<style scoped>\n",
       "    .dataframe tbody tr th:only-of-type {\n",
       "        vertical-align: middle;\n",
       "    }\n",
       "\n",
       "    .dataframe tbody tr th {\n",
       "        vertical-align: top;\n",
       "    }\n",
       "\n",
       "    .dataframe thead th {\n",
       "        text-align: right;\n",
       "    }\n",
       "</style>\n",
       "<table border=\"1\" class=\"dataframe\">\n",
       "  <thead>\n",
       "    <tr style=\"text-align: right;\">\n",
       "      <th></th>\n",
       "      <th></th>\n",
       "      <th>Age</th>\n",
       "      <th>IQ</th>\n",
       "      <th>IQ_Matrix</th>\n",
       "      <th>IQ_Vocab</th>\n",
       "      <th>Age_z</th>\n",
       "    </tr>\n",
       "    <tr>\n",
       "      <th>Gender</th>\n",
       "      <th>age_less_than_10</th>\n",
       "      <th></th>\n",
       "      <th></th>\n",
       "      <th></th>\n",
       "      <th></th>\n",
       "      <th></th>\n",
       "    </tr>\n",
       "  </thead>\n",
       "  <tbody>\n",
       "    <tr>\n",
       "      <th rowspan=\"2\" valign=\"top\">Female</th>\n",
       "      <th>False</th>\n",
       "      <td>22.576923</td>\n",
       "      <td>117.095238</td>\n",
       "      <td>57.619048</td>\n",
       "      <td>61.619048</td>\n",
       "      <td>0.295250</td>\n",
       "    </tr>\n",
       "    <tr>\n",
       "      <th>True</th>\n",
       "      <td>8.363636</td>\n",
       "      <td>128.000000</td>\n",
       "      <td>63.200000</td>\n",
       "      <td>67.500000</td>\n",
       "      <td>-0.865317</td>\n",
       "    </tr>\n",
       "    <tr>\n",
       "      <th rowspan=\"2\" valign=\"top\">Male</th>\n",
       "      <th>False</th>\n",
       "      <td>24.600000</td>\n",
       "      <td>122.055556</td>\n",
       "      <td>61.277778</td>\n",
       "      <td>63.333333</td>\n",
       "      <td>0.460442</td>\n",
       "    </tr>\n",
       "    <tr>\n",
       "      <th>True</th>\n",
       "      <td>8.285714</td>\n",
       "      <td>125.642857</td>\n",
       "      <td>62.071429</td>\n",
       "      <td>66.000000</td>\n",
       "      <td>-0.871679</td>\n",
       "    </tr>\n",
       "  </tbody>\n",
       "</table>\n",
       "</div>"
      ],
      "text/plain": [
       "                               Age          IQ  IQ_Matrix   IQ_Vocab     Age_z\n",
       "Gender age_less_than_10                                                       \n",
       "Female False             22.576923  117.095238  57.619048  61.619048  0.295250\n",
       "       True               8.363636  128.000000  63.200000  67.500000 -0.865317\n",
       "Male   False             24.600000  122.055556  61.277778  63.333333  0.460442\n",
       "       True               8.285714  125.642857  62.071429  66.000000 -0.871679"
      ]
     },
     "execution_count": 39,
     "metadata": {},
     "output_type": "execute_result"
    }
   ],
   "source": [
    "gender_and_age_groups = subjects.groupby([\"Gender\", \"age_less_than_10\"])\n",
    "gender_and_age_groups.mean()"
   ]
  },
  {
   "cell_type": "code",
   "execution_count": 41,
   "id": "0b217b04",
   "metadata": {},
   "outputs": [
    {
     "name": "stdout",
     "output_type": "stream",
     "text": [
      "<class 'pandas.core.frame.DataFrame'>\n",
      "Index: 154000 entries, subject_000 to subject_076\n",
      "Data columns (total 3 columns):\n",
      " #   Column   Non-Null Count   Dtype  \n",
      "---  ------   --------------   -----  \n",
      " 0   tractID  154000 non-null  object \n",
      " 1   nodeID   154000 non-null  int64  \n",
      " 2   fa       152326 non-null  float64\n",
      "dtypes: float64(1), int64(1), object(1)\n",
      "memory usage: 4.7+ MB\n"
     ]
    }
   ],
   "source": [
    "## tractography analysis\n",
    "nodes = pd.read_csv('https://yeatmanlab.github.io/AFQBrowser-demo/data/nodes.csv',\n",
    "index_col=\"subjectID\",\n",
    "usecols=[\"subjectID\", \"tractID\", \"nodeID\", \"fa\"])\n",
    "nodes.info()"
   ]
  },
  {
   "cell_type": "code",
   "execution_count": 42,
   "id": "0163fe1c",
   "metadata": {},
   "outputs": [
    {
     "data": {
      "text/html": [
       "<div>\n",
       "<style scoped>\n",
       "    .dataframe tbody tr th:only-of-type {\n",
       "        vertical-align: middle;\n",
       "    }\n",
       "\n",
       "    .dataframe tbody tr th {\n",
       "        vertical-align: top;\n",
       "    }\n",
       "\n",
       "    .dataframe thead th {\n",
       "        text-align: right;\n",
       "    }\n",
       "</style>\n",
       "<table border=\"1\" class=\"dataframe\">\n",
       "  <thead>\n",
       "    <tr style=\"text-align: right;\">\n",
       "      <th></th>\n",
       "      <th>tractID</th>\n",
       "      <th>nodeID</th>\n",
       "      <th>fa</th>\n",
       "    </tr>\n",
       "    <tr>\n",
       "      <th>subjectID</th>\n",
       "      <th></th>\n",
       "      <th></th>\n",
       "      <th></th>\n",
       "    </tr>\n",
       "  </thead>\n",
       "  <tbody>\n",
       "    <tr>\n",
       "      <th>subject_000</th>\n",
       "      <td>Left Thalamic Radiation</td>\n",
       "      <td>0</td>\n",
       "      <td>0.183053</td>\n",
       "    </tr>\n",
       "    <tr>\n",
       "      <th>subject_000</th>\n",
       "      <td>Left Thalamic Radiation</td>\n",
       "      <td>1</td>\n",
       "      <td>0.247121</td>\n",
       "    </tr>\n",
       "    <tr>\n",
       "      <th>subject_000</th>\n",
       "      <td>Left Thalamic Radiation</td>\n",
       "      <td>2</td>\n",
       "      <td>0.306726</td>\n",
       "    </tr>\n",
       "    <tr>\n",
       "      <th>subject_000</th>\n",
       "      <td>Left Thalamic Radiation</td>\n",
       "      <td>3</td>\n",
       "      <td>0.343995</td>\n",
       "    </tr>\n",
       "    <tr>\n",
       "      <th>subject_000</th>\n",
       "      <td>Left Thalamic Radiation</td>\n",
       "      <td>4</td>\n",
       "      <td>0.373869</td>\n",
       "    </tr>\n",
       "  </tbody>\n",
       "</table>\n",
       "</div>"
      ],
      "text/plain": [
       "                             tractID  nodeID        fa\n",
       "subjectID                                             \n",
       "subject_000  Left Thalamic Radiation       0  0.183053\n",
       "subject_000  Left Thalamic Radiation       1  0.247121\n",
       "subject_000  Left Thalamic Radiation       2  0.306726\n",
       "subject_000  Left Thalamic Radiation       3  0.343995\n",
       "subject_000  Left Thalamic Radiation       4  0.373869"
      ]
     },
     "execution_count": 42,
     "metadata": {},
     "output_type": "execute_result"
    }
   ],
   "source": [
    "nodes.head()"
   ]
  },
  {
   "cell_type": "code",
   "execution_count": 43,
   "id": "782aeb32",
   "metadata": {},
   "outputs": [
    {
     "name": "stdout",
     "output_type": "stream",
     "text": [
      "<class 'pandas.core.frame.DataFrame'>\n",
      "Index: 2000 entries, subject_000 to subject_000\n",
      "Data columns (total 3 columns):\n",
      " #   Column   Non-Null Count  Dtype  \n",
      "---  ------   --------------  -----  \n",
      " 0   tractID  2000 non-null   object \n",
      " 1   nodeID   2000 non-null   int64  \n",
      " 2   fa       1996 non-null   float64\n",
      "dtypes: float64(1), int64(1), object(1)\n",
      "memory usage: 62.5+ KB\n"
     ]
    }
   ],
   "source": [
    "nodes.loc[\"subject_000\"].info()"
   ]
  },
  {
   "cell_type": "code",
   "execution_count": 44,
   "id": "fa26fe7a",
   "metadata": {},
   "outputs": [
    {
     "name": "stdout",
     "output_type": "stream",
     "text": [
      "<class 'pandas.core.frame.DataFrame'>\n",
      "Index: 154000 entries, subject_000 to subject_076\n",
      "Data columns (total 11 columns):\n",
      " #   Column            Non-Null Count   Dtype  \n",
      "---  ------            --------------   -----  \n",
      " 0   tractID           154000 non-null  object \n",
      " 1   nodeID            154000 non-null  int64  \n",
      " 2   fa                152326 non-null  float64\n",
      " 3   Age               154000 non-null  int64  \n",
      " 4   Gender            152000 non-null  object \n",
      " 5   Handedness        132000 non-null  object \n",
      " 6   IQ                126000 non-null  float64\n",
      " 7   IQ_Matrix         126000 non-null  float64\n",
      " 8   IQ_Vocab          126000 non-null  float64\n",
      " 9   Age_z             154000 non-null  float64\n",
      " 10  age_less_than_10  154000 non-null  bool   \n",
      "dtypes: bool(1), float64(5), int64(2), object(3)\n",
      "memory usage: 13.1+ MB\n"
     ]
    }
   ],
   "source": [
    "joined = pd.merge(nodes, subjects, left_index=True, right_index=True)\n",
    "joined.info()"
   ]
  },
  {
   "cell_type": "code",
   "execution_count": null,
   "id": "ab4b8716",
   "metadata": {},
   "outputs": [],
   "source": []
  }
 ],
 "metadata": {
  "kernelspec": {
   "display_name": "Python 3 (ipykernel)",
   "language": "python",
   "name": "python3"
  },
  "language_info": {
   "codemirror_mode": {
    "name": "ipython",
    "version": 3
   },
   "file_extension": ".py",
   "mimetype": "text/x-python",
   "name": "python",
   "nbconvert_exporter": "python",
   "pygments_lexer": "ipython3",
   "version": "3.9.0"
  }
 },
 "nbformat": 4,
 "nbformat_minor": 5
}
