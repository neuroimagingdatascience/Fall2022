{
 "cells": [
  {
   "cell_type": "code",
   "execution_count": 1,
   "id": "7e8defe3",
   "metadata": {},
   "outputs": [
    {
     "data": {
      "text/plain": [
       "'{\"a\": 1, \"b\": 5}'"
      ]
     },
     "execution_count": 1,
     "metadata": {},
     "output_type": "execute_result"
    }
   ],
   "source": [
    "import json\n",
    "dummy = {'a':1, 'b':5}\n",
    "json.dumps(dummy)"
   ]
  },
  {
   "cell_type": "code",
   "execution_count": 3,
   "id": "ff19eade",
   "metadata": {},
   "outputs": [
    {
     "name": "stdout",
     "output_type": "stream",
     "text": [
      "defaultdict(<class 'int'>, {})\n"
     ]
    }
   ],
   "source": [
    "import collections \n",
    "another_test_dict = collections.defaultdict(int)\n",
    "print(another_test_dict)"
   ]
  },
  {
   "cell_type": "code",
   "execution_count": 5,
   "id": "128086b3",
   "metadata": {},
   "outputs": [
    {
     "name": "stdout",
     "output_type": "stream",
     "text": [
      "defaultdict(<class 'float'>, {})\n"
     ]
    }
   ],
   "source": [
    "# import classes \n",
    "from collections import defaultdict as dd \n",
    "float_test_dict = dd(float)\n",
    "print(float_test_dict)"
   ]
  },
  {
   "cell_type": "code",
   "execution_count": 9,
   "id": "35c6a38f",
   "metadata": {},
   "outputs": [
    {
     "data": {
      "text/plain": [
       "13.305381761536406"
      ]
     },
     "execution_count": 9,
     "metadata": {},
     "output_type": "execute_result"
    }
   ],
   "source": [
    "# define functions \n",
    "import random as rnd\n",
    "\n",
    "def add_noise(x,mu,sd):\n",
    "    \"\"\"\"Adds gaussian noise \n",
    "    \n",
    "    Params\n",
    "    x  : number to input \n",
    "    mu : float, mean of gaussian noise\n",
    "    sd : float, sd of gaussian noise \n",
    "\n",
    "    Returns \n",
    "    float \n",
    "    \"\"\" \n",
    "    noise = rnd.normalvariate(mu,sd)\n",
    "    return (x + noise)\n",
    "\n",
    "add_noise(10, 2, 2)"
   ]
  },
  {
   "cell_type": "code",
   "execution_count": 10,
   "id": "6fac29dd",
   "metadata": {},
   "outputs": [
    {
     "data": {
      "text/plain": [
       "10.232926732065097"
      ]
     },
     "execution_count": 10,
     "metadata": {},
     "output_type": "execute_result"
    }
   ],
   "source": [
    "def add_noise_defaults(x,mu=0,sd=1):\n",
    "    \"\"\"\"Adds gaussian noise \n",
    "    \n",
    "    Params\n",
    "    x  : number to input \n",
    "    mu : float, mean of gaussian noise\n",
    "    sd : float, sd of gaussian noise \n",
    "\n",
    "    Returns \n",
    "    float \n",
    "    \"\"\" \n",
    "    noise = rnd.normalvariate(mu,sd)\n",
    "    return (x + noise)\n",
    "add_noise_defaults(10)"
   ]
  },
  {
   "cell_type": "code",
   "execution_count": 11,
   "id": "4c7de65b",
   "metadata": {},
   "outputs": [
    {
     "name": "stdout",
     "output_type": "stream",
     "text": [
      "Calling function: add_noise_defaults\n",
      "Positional arguments: (18,)\n",
      "Keyword arguments: {}\n"
     ]
    },
    {
     "data": {
      "text/plain": [
       "17.33573246496399"
      ]
     },
     "execution_count": 11,
     "metadata": {},
     "output_type": "execute_result"
    }
   ],
   "source": [
    "def arg_printer(func, *args, **kwargs):\n",
    "    \"\"\"\n",
    "    A wrapper that takes any other function plus arguments to pass\n",
    "    to that function. The arguments are printed out before the\n",
    "    function is called and the result returned.\n",
    "    Parameters\n",
    "    ----------\n",
    "    func : callable\n",
    "    The function to call with the passed args.\n",
    "    args : list, optional\n",
    "    List of arguments to pass into func.\n",
    "    kwargs : dict, optional\n",
    "    Dict of keyword arguments to pass into func.\n",
    "    Returns\n",
    "    -------\n",
    "    The result of func() when called with the passed arguments.\n",
    "    \"\"\"\n",
    "    print(\"Calling function:\", func.__name__)\n",
    "    print(\"Positional arguments:\", args)\n",
    "    print(\"Keyword arguments:\", kwargs)\n",
    "    return func(*args, **kwargs)\n",
    "\n",
    "arg_printer(add_noise_defaults, 18)"
   ]
  },
  {
   "cell_type": "code",
   "execution_count": null,
   "id": "daad7814",
   "metadata": {},
   "outputs": [],
   "source": []
  }
 ],
 "metadata": {
  "kernelspec": {
   "display_name": "Python 3 (ipykernel)",
   "language": "python",
   "name": "python3"
  },
  "language_info": {
   "codemirror_mode": {
    "name": "ipython",
    "version": 3
   },
   "file_extension": ".py",
   "mimetype": "text/x-python",
   "name": "python",
   "nbconvert_exporter": "python",
   "pygments_lexer": "ipython3",
   "version": "3.9.0"
  }
 },
 "nbformat": 4,
 "nbformat_minor": 5
}
