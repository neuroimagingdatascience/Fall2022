{
 "cells": [
  {
   "cell_type": "code",
   "execution_count": 1,
   "id": "94b185b6",
   "metadata": {},
   "outputs": [
    {
     "name": "stdout",
     "output_type": "stream",
     "text": [
      "3\n"
     ]
    }
   ],
   "source": [
    "##################\n",
    "# week 1 - some easy python examples \n",
    "#\n",
    "#\n",
    "#\n",
    "\n",
    "\n",
    "##################\n",
    "# ints \n",
    "my_var = 3\n",
    "print(my_var)"
   ]
  },
  {
   "cell_type": "code",
   "execution_count": 2,
   "id": "604168dd",
   "metadata": {},
   "outputs": [
    {
     "name": "stdout",
     "output_type": "stream",
     "text": [
      "8616960\n"
     ]
    }
   ],
   "source": [
    "# some int operations \n",
    "dim_x = 255 \n",
    "dim_y = 176\n",
    "dim_z = 192\n",
    "voxels = dim_x * dim_y * dim_z\n",
    "print(voxels)"
   ]
  },
  {
   "cell_type": "code",
   "execution_count": 3,
   "id": "b06746a7",
   "metadata": {},
   "outputs": [
    {
     "name": "stdout",
     "output_type": "stream",
     "text": [
      "Neuroimaging Data Science NEUR-608\n",
      "34\n",
      "3\n"
     ]
    },
    {
     "data": {
      "text/plain": [
       "'Neuroimaging Better Science NEUR-608'"
      ]
     },
     "execution_count": 3,
     "metadata": {},
     "output_type": "execute_result"
    }
   ],
   "source": [
    "##################\n",
    "# strings \n",
    "my_var = \"Neuroimaging Data Science NEUR-608\"\n",
    "print(my_var)\n",
    "print(len(my_var))\n",
    "print(my_var.count(\"a\"))\n",
    "my_var.replace(\"Data\",\"Better\")"
   ]
  },
  {
   "cell_type": "code",
   "execution_count": 4,
   "id": "bf6c7670",
   "metadata": {},
   "outputs": [
    {
     "name": "stdout",
     "output_type": "stream",
     "text": [
      "True\n"
     ]
    }
   ],
   "source": [
    "##################\n",
    "## booleans \n",
    "is_longer_than_2 = len('Data') > 2\n",
    "print(is_longer_than_2)\n"
   ]
  },
  {
   "cell_type": "code",
   "execution_count": 9,
   "id": "b7a66ee9",
   "metadata": {},
   "outputs": [
    {
     "data": {
      "text/plain": [
       "True"
      ]
     },
     "execution_count": 9,
     "metadata": {},
     "output_type": "execute_result"
    }
   ],
   "source": [
    "(\"Science\" in my_var) and (len('Data') > 2)"
   ]
  },
  {
   "cell_type": "code",
   "execution_count": 5,
   "id": "e772fc29",
   "metadata": {},
   "outputs": [
    {
     "data": {
      "text/plain": [
       "'MRI'"
      ]
     },
     "execution_count": 5,
     "metadata": {},
     "output_type": "execute_result"
    }
   ],
   "source": [
    "##################\n",
    "## arrays \n",
    "stuff = [3, \"MRI\", 42, \"MEG\"]\n",
    "stuff[1]"
   ]
  },
  {
   "cell_type": "code",
   "execution_count": 11,
   "id": "e510a6af",
   "metadata": {},
   "outputs": [
    {
     "data": {
      "text/plain": [
       "[3, 'MRI']"
      ]
     },
     "execution_count": 11,
     "metadata": {},
     "output_type": "execute_result"
    }
   ],
   "source": [
    "stuff[0:2] # matlab is different here "
   ]
  },
  {
   "cell_type": "code",
   "execution_count": 6,
   "id": "918f18ae",
   "metadata": {},
   "outputs": [
    {
     "name": "stdout",
     "output_type": "stream",
     "text": [
      "[3, 'MRI', 42, 'MEG', 182]\n"
     ]
    }
   ],
   "source": [
    "stuff.append(182)\n",
    "print(stuff)"
   ]
  },
  {
   "cell_type": "code",
   "execution_count": 7,
   "id": "360eee94",
   "metadata": {},
   "outputs": [
    {
     "name": "stdout",
     "output_type": "stream",
     "text": [
      "[33, 'MRI', 42, 'MEG', 182]\n"
     ]
    }
   ],
   "source": [
    "stuff[0] = 33\n",
    "print(stuff)"
   ]
  },
  {
   "cell_type": "code",
   "execution_count": 8,
   "id": "c4fbfb59",
   "metadata": {},
   "outputs": [
    {
     "name": "stdout",
     "output_type": "stream",
     "text": [
      "1.5\n",
      "just to make a point\n"
     ]
    },
    {
     "ename": "KeyError",
     "evalue": "0",
     "output_type": "error",
     "traceback": [
      "\u001b[0;31m---------------------------------------------------------------------------\u001b[0m",
      "\u001b[0;31mKeyError\u001b[0m                                  Traceback (most recent call last)",
      "Input \u001b[0;32mIn [8]\u001b[0m, in \u001b[0;36m<cell line: 14>\u001b[0;34m()\u001b[0m\n\u001b[1;32m     12\u001b[0m \u001b[38;5;28mprint\u001b[39m(fruit_prices[\u001b[38;5;124m'\u001b[39m\u001b[38;5;124mmango\u001b[39m\u001b[38;5;124m'\u001b[39m])\n\u001b[1;32m     13\u001b[0m \u001b[38;5;28mprint\u001b[39m(fruit_prices[\u001b[38;5;241m5\u001b[39m])\n\u001b[0;32m---> 14\u001b[0m \u001b[38;5;28mprint\u001b[39m(\u001b[43mfruit_prices\u001b[49m\u001b[43m[\u001b[49m\u001b[38;5;241;43m0\u001b[39;49m\u001b[43m]\u001b[49m)\n",
      "\u001b[0;31mKeyError\u001b[0m: 0"
     ]
    }
   ],
   "source": [
    "##################\n",
    "## dictionaries \n",
    "\n",
    "fruit_prices = {\n",
    "        \"apple\" : 0.7,\n",
    "        \"mango\" : 1.5, \n",
    "        \"pinepple\" : 30,\n",
    "        \"banana\" : \"N/A\",\n",
    "        5 : \"just to make a point\"\n",
    "}\n",
    "\n",
    "print(fruit_prices['mango'])\n",
    "print(fruit_prices[5])\n",
    "print(fruit_prices[0])"
   ]
  },
  {
   "cell_type": "code",
   "execution_count": 15,
   "id": "e9c1dbc8",
   "metadata": {},
   "outputs": [
    {
     "name": "stdout",
     "output_type": "stream",
     "text": [
      "('a', 'ba', 1.34, 898)\n"
     ]
    }
   ],
   "source": [
    "##################\n",
    "# tuples are immutable\n",
    "\n",
    "my_tuple = (\"a\",\"ba\",1.34,898)\n",
    "print(my_tuple)"
   ]
  },
  {
   "cell_type": "code",
   "execution_count": 20,
   "id": "a003e8e6",
   "metadata": {},
   "outputs": [
    {
     "ename": "TypeError",
     "evalue": "'tuple' object does not support item assignment",
     "output_type": "error",
     "traceback": [
      "\u001b[0;31m---------------------------------------------------------------------------\u001b[0m",
      "\u001b[0;31mTypeError\u001b[0m                                 Traceback (most recent call last)",
      "Input \u001b[0;32mIn [20]\u001b[0m, in \u001b[0;36m<cell line: 1>\u001b[0;34m()\u001b[0m\n\u001b[0;32m----> 1\u001b[0m my_tuple[\u001b[38;5;241m0\u001b[39m] \u001b[38;5;241m=\u001b[39m \u001b[38;5;241m998\u001b[39m\n",
      "\u001b[0;31mTypeError\u001b[0m: 'tuple' object does not support item assignment"
     ]
    }
   ],
   "source": [
    "my_tuple[0] = 998"
   ]
  },
  {
   "cell_type": "code",
   "execution_count": 22,
   "id": "55609d9c",
   "metadata": {},
   "outputs": [
    {
     "name": "stdout",
     "output_type": "stream",
     "text": [
      "[998, 'ba', 1.34, 898]\n"
     ]
    }
   ],
   "source": [
    "my_tlist = list(my_tuple)\n",
    "my_tlist[0] = 998\n",
    "print(my_tlist)\n"
   ]
  },
  {
   "cell_type": "code",
   "execution_count": 23,
   "id": "93749664",
   "metadata": {},
   "outputs": [
    {
     "name": "stdout",
     "output_type": "stream",
     "text": [
      "(998, 'ba', 1.34, 898)\n"
     ]
    }
   ],
   "source": [
    "my_newtuple = tuple(my_tlist)\n",
    "print(my_newtuple)"
   ]
  },
  {
   "cell_type": "code",
   "execution_count": 24,
   "id": "ba7a7421",
   "metadata": {},
   "outputs": [
    {
     "data": {
      "text/plain": [
       "'today we learn python'"
      ]
     },
     "execution_count": 24,
     "metadata": {},
     "output_type": "execute_result"
    }
   ],
   "source": [
    "##################\n",
    "# OOP \n",
    "\n",
    "my_phrase = \"toDay wE learN python\"\n",
    "my_phrase.lower()"
   ]
  },
  {
   "cell_type": "code",
   "execution_count": 25,
   "id": "c1c38909",
   "metadata": {},
   "outputs": [
    {
     "data": {
      "text/plain": [
       "'TODAY WE LEARN PYTHON'"
      ]
     },
     "execution_count": 25,
     "metadata": {},
     "output_type": "execute_result"
    }
   ],
   "source": [
    "my_phrase.upper()"
   ]
  },
  {
   "cell_type": "code",
   "execution_count": 26,
   "id": "6bad8ead",
   "metadata": {},
   "outputs": [
    {
     "ename": "NameError",
     "evalue": "name 'my_numer' is not defined",
     "output_type": "error",
     "traceback": [
      "\u001b[0;31m---------------------------------------------------------------------------\u001b[0m",
      "\u001b[0;31mNameError\u001b[0m                                 Traceback (most recent call last)",
      "Input \u001b[0;32mIn [26]\u001b[0m, in \u001b[0;36m<cell line: 2>\u001b[0;34m()\u001b[0m\n\u001b[1;32m      1\u001b[0m my_number \u001b[38;5;241m=\u001b[39m \u001b[38;5;241m7\u001b[39m\n\u001b[0;32m----> 2\u001b[0m \u001b[43mmy_numer\u001b[49m\u001b[38;5;241m.\u001b[39mlower()\n",
      "\u001b[0;31mNameError\u001b[0m: name 'my_numer' is not defined"
     ]
    }
   ],
   "source": [
    "my_number = 7\n",
    "my_number.lower()"
   ]
  },
  {
   "cell_type": "code",
   "execution_count": 27,
   "id": "99e488af",
   "metadata": {},
   "outputs": [
    {
     "name": "stdout",
     "output_type": "stream",
     "text": [
      "<class 'int'>\n",
      "<class 'str'>\n"
     ]
    }
   ],
   "source": [
    "print(type(my_number))\n",
    "print(type(my_phrase))"
   ]
  },
  {
   "cell_type": "code",
   "execution_count": 28,
   "id": "37296820",
   "metadata": {},
   "outputs": [
    {
     "data": {
      "text/plain": [
       "['__abs__',\n",
       " '__add__',\n",
       " '__and__',\n",
       " '__bool__',\n",
       " '__ceil__',\n",
       " '__class__',\n",
       " '__delattr__',\n",
       " '__dir__',\n",
       " '__divmod__',\n",
       " '__doc__',\n",
       " '__eq__',\n",
       " '__float__',\n",
       " '__floor__',\n",
       " '__floordiv__',\n",
       " '__format__',\n",
       " '__ge__',\n",
       " '__getattribute__',\n",
       " '__getnewargs__',\n",
       " '__gt__',\n",
       " '__hash__',\n",
       " '__index__',\n",
       " '__init__',\n",
       " '__init_subclass__',\n",
       " '__int__',\n",
       " '__invert__',\n",
       " '__le__',\n",
       " '__lshift__',\n",
       " '__lt__',\n",
       " '__mod__',\n",
       " '__mul__',\n",
       " '__ne__',\n",
       " '__neg__',\n",
       " '__new__',\n",
       " '__or__',\n",
       " '__pos__',\n",
       " '__pow__',\n",
       " '__radd__',\n",
       " '__rand__',\n",
       " '__rdivmod__',\n",
       " '__reduce__',\n",
       " '__reduce_ex__',\n",
       " '__repr__',\n",
       " '__rfloordiv__',\n",
       " '__rlshift__',\n",
       " '__rmod__',\n",
       " '__rmul__',\n",
       " '__ror__',\n",
       " '__round__',\n",
       " '__rpow__',\n",
       " '__rrshift__',\n",
       " '__rshift__',\n",
       " '__rsub__',\n",
       " '__rtruediv__',\n",
       " '__rxor__',\n",
       " '__setattr__',\n",
       " '__sizeof__',\n",
       " '__str__',\n",
       " '__sub__',\n",
       " '__subclasshook__',\n",
       " '__truediv__',\n",
       " '__trunc__',\n",
       " '__xor__',\n",
       " 'as_integer_ratio',\n",
       " 'bit_length',\n",
       " 'conjugate',\n",
       " 'denominator',\n",
       " 'from_bytes',\n",
       " 'imag',\n",
       " 'numerator',\n",
       " 'real',\n",
       " 'to_bytes']"
      ]
     },
     "execution_count": 28,
     "metadata": {},
     "output_type": "execute_result"
    }
   ],
   "source": [
    "dir(my_number)"
   ]
  },
  {
   "cell_type": "code",
   "execution_count": 29,
   "id": "6a0372c6",
   "metadata": {},
   "outputs": [
    {
     "data": {
      "text/plain": [
       "['__add__',\n",
       " '__class__',\n",
       " '__contains__',\n",
       " '__delattr__',\n",
       " '__dir__',\n",
       " '__doc__',\n",
       " '__eq__',\n",
       " '__format__',\n",
       " '__ge__',\n",
       " '__getattribute__',\n",
       " '__getitem__',\n",
       " '__getnewargs__',\n",
       " '__gt__',\n",
       " '__hash__',\n",
       " '__init__',\n",
       " '__init_subclass__',\n",
       " '__iter__',\n",
       " '__le__',\n",
       " '__len__',\n",
       " '__lt__',\n",
       " '__mod__',\n",
       " '__mul__',\n",
       " '__ne__',\n",
       " '__new__',\n",
       " '__reduce__',\n",
       " '__reduce_ex__',\n",
       " '__repr__',\n",
       " '__rmod__',\n",
       " '__rmul__',\n",
       " '__setattr__',\n",
       " '__sizeof__',\n",
       " '__str__',\n",
       " '__subclasshook__',\n",
       " 'capitalize',\n",
       " 'casefold',\n",
       " 'center',\n",
       " 'count',\n",
       " 'encode',\n",
       " 'endswith',\n",
       " 'expandtabs',\n",
       " 'find',\n",
       " 'format',\n",
       " 'format_map',\n",
       " 'index',\n",
       " 'isalnum',\n",
       " 'isalpha',\n",
       " 'isascii',\n",
       " 'isdecimal',\n",
       " 'isdigit',\n",
       " 'isidentifier',\n",
       " 'islower',\n",
       " 'isnumeric',\n",
       " 'isprintable',\n",
       " 'isspace',\n",
       " 'istitle',\n",
       " 'isupper',\n",
       " 'join',\n",
       " 'ljust',\n",
       " 'lower',\n",
       " 'lstrip',\n",
       " 'maketrans',\n",
       " 'partition',\n",
       " 'removeprefix',\n",
       " 'removesuffix',\n",
       " 'replace',\n",
       " 'rfind',\n",
       " 'rindex',\n",
       " 'rjust',\n",
       " 'rpartition',\n",
       " 'rsplit',\n",
       " 'rstrip',\n",
       " 'split',\n",
       " 'splitlines',\n",
       " 'startswith',\n",
       " 'strip',\n",
       " 'swapcase',\n",
       " 'title',\n",
       " 'translate',\n",
       " 'upper',\n",
       " 'zfill']"
      ]
     },
     "execution_count": 29,
     "metadata": {},
     "output_type": "execute_result"
    }
   ],
   "source": [
    "dir(my_phrase)"
   ]
  },
  {
   "cell_type": "code",
   "execution_count": 16,
   "id": "f5e4e683",
   "metadata": {},
   "outputs": [
    {
     "name": "stdout",
     "output_type": "stream",
     "text": [
      "Get one mango from the store.\n"
     ]
    }
   ],
   "source": [
    "##################\n",
    "# flow control \n",
    "mango = 0.7 \n",
    "if mango < 0.5:\n",
    "    print(\"Mangoes are super cheap; get a bunch of them!\")\n",
    "elif mango < 1: \n",
    "    print(\"Get one mango from the store.\")\n",
    "else:\n",
    "    print(\"Meh. I dont really even like mangoes.\")\n",
    "    \n",
    "    "
   ]
  },
  {
   "cell_type": "code",
   "execution_count": 17,
   "id": "9cb0ce41",
   "metadata": {},
   "outputs": [
    {
     "name": "stdout",
     "output_type": "stream",
     "text": [
      "33\n",
      "MRI\n",
      "42\n",
      "MEG\n",
      "182\n"
     ]
    }
   ],
   "source": [
    "for elem in stuff: \n",
    "    print(elem)"
   ]
  },
  {
   "cell_type": "code",
   "execution_count": 18,
   "id": "451cdbd1",
   "metadata": {},
   "outputs": [
    {
     "name": "stdout",
     "output_type": "stream",
     "text": [
      "5\n",
      "range(0, 5)\n"
     ]
    }
   ],
   "source": [
    "num_elem = len(stuff)\n",
    "print(num_elem)\n",
    "print(range(num_elem))\n"
   ]
  },
  {
   "cell_type": "code",
   "execution_count": 19,
   "id": "c131a255",
   "metadata": {},
   "outputs": [
    {
     "name": "stdout",
     "output_type": "stream",
     "text": [
      "0 33\n",
      "Element 0: 33\n",
      "1 MRI\n",
      "Element 1: MRI\n",
      "2 42\n",
      "Element 2: 42\n",
      "3 MEG\n",
      "Element 3: MEG\n",
      "4 182\n",
      "Element 4: 182\n"
     ]
    }
   ],
   "source": [
    "for i in range(num_elem):\n",
    "    val = stuff[i]\n",
    "    print(i, val)\n",
    "    print(f\"Element {i}: {val}\")"
   ]
  },
  {
   "cell_type": "code",
   "execution_count": 20,
   "id": "b1310ae7",
   "metadata": {},
   "outputs": [
    {
     "name": "stdout",
     "output_type": "stream",
     "text": [
      "33\n",
      "MRI\n",
      "42\n",
      "MEG\n",
      "182\n"
     ]
    }
   ],
   "source": [
    "# compact loop writing\n",
    "p = [print(elem) for elem in stuff]"
   ]
  },
  {
   "cell_type": "code",
   "execution_count": 21,
   "id": "4eff8428",
   "metadata": {},
   "outputs": [
    {
     "name": "stdout",
     "output_type": "stream",
     "text": [
      "['MRI', 'MEG']\n",
      "[33, 42, 182]\n"
     ]
    }
   ],
   "source": [
    "# compact loop / if-else writing \n",
    "strings_only = [elem for elem in stuff if isinstance(elem,str)]\n",
    "print(strings_only)\n",
    "int_only = [elem for elem in stuff if isinstance(elem,int)]\n",
    "print(int_only)"
   ]
  },
  {
   "cell_type": "code",
   "execution_count": null,
   "id": "6ab1af59",
   "metadata": {},
   "outputs": [],
   "source": []
  }
 ],
 "metadata": {
  "kernelspec": {
   "display_name": "Python 3 (ipykernel)",
   "language": "python",
   "name": "python3"
  },
  "language_info": {
   "codemirror_mode": {
    "name": "ipython",
    "version": 3
   },
   "file_extension": ".py",
   "mimetype": "text/x-python",
   "name": "python",
   "nbconvert_exporter": "python",
   "pygments_lexer": "ipython3",
   "version": "3.9.0"
  }
 },
 "nbformat": 4,
 "nbformat_minor": 5
}
