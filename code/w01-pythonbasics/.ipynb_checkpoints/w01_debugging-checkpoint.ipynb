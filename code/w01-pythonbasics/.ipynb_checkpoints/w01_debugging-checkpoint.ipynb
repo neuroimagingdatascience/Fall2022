{
 "cells": [
  {
   "cell_type": "code",
   "execution_count": null,
   "id": "0d9d4be8",
   "metadata": {},
   "outputs": [],
   "source": [
    "# define an addition of last elements in two lists\n",
    "def add_last_elements(list1, list2):\n",
    "    \"\"\"\n",
    "    \n",
    "    Returns the sum of the last elements in two lists.\n",
    "    \n",
    "    \"\"\"\n",
    "    \n",
    "    print(len(list1))\n",
    "    print(len(list2))\n",
    "    \n",
    "    assert len(list1)>0 and len(list2)>0\n",
    "    return list1[-1] + list2[-1]\n",
    "\n",
    "list1 = [3, 2, 8]\n",
    "list2 = [2]\n",
    "\n",
    "add_last_elements(list1, list2)"
   ]
  },
  {
   "cell_type": "code",
   "execution_count": null,
   "id": "f0b7dbd6",
   "metadata": {},
   "outputs": [],
   "source": []
  }
 ],
 "metadata": {
  "kernelspec": {
   "display_name": "Python 3 (ipykernel)",
   "language": "python",
   "name": "python3"
  },
  "language_info": {
   "codemirror_mode": {
    "name": "ipython",
    "version": 3
   },
   "file_extension": ".py",
   "mimetype": "text/x-python",
   "name": "python",
   "nbconvert_exporter": "python",
   "pygments_lexer": "ipython3",
   "version": "3.9.0"
  }
 },
 "nbformat": 4,
 "nbformat_minor": 5
}
