{
 "cells": [
  {
   "cell_type": "code",
   "execution_count": 1,
   "id": "d234cd63",
   "metadata": {},
   "outputs": [
    {
     "name": "stdout",
     "output_type": "stream",
     "text": [
      "3\n"
     ]
    }
   ],
   "source": [
    "# ints \n",
    "my_var = 3\n",
    "print(my_var)"
   ]
  },
  {
   "cell_type": "code",
   "execution_count": 3,
   "id": "c98ed78f",
   "metadata": {},
   "outputs": [
    {
     "name": "stdout",
     "output_type": "stream",
     "text": [
      "8616960\n"
     ]
    }
   ],
   "source": [
    "# some int operations \n",
    "dim_x = 255 \n",
    "dim_y = 176\n",
    "dim_z = 192\n",
    "voxels = dim_x * dim_y * dim_z\n",
    "print(voxels)"
   ]
  },
  {
   "cell_type": "code",
   "execution_count": 6,
   "id": "a5c2f298",
   "metadata": {},
   "outputs": [
    {
     "name": "stdout",
     "output_type": "stream",
     "text": [
      "Data science\n",
      "12\n",
      "2\n"
     ]
    }
   ],
   "source": [
    "# strings \n",
    "my_var = \"Data science\"\n",
    "print(my_var)\n",
    "print(len(my_var))\n",
    "print(my_var.count(\"a\"))"
   ]
  },
  {
   "cell_type": "code",
   "execution_count": 7,
   "id": "169f9949",
   "metadata": {},
   "outputs": [
    {
     "data": {
      "text/plain": [
       "'Better science'"
      ]
     },
     "execution_count": 7,
     "metadata": {},
     "output_type": "execute_result"
    }
   ],
   "source": [
    "my_var.replace(\"Data\",\"Better\")"
   ]
  },
  {
   "cell_type": "code",
   "execution_count": null,
   "id": "331ed0be",
   "metadata": {},
   "outputs": [],
   "source": []
  }
 ],
 "metadata": {
  "kernelspec": {
   "display_name": "Python 3 (ipykernel)",
   "language": "python",
   "name": "python3"
  },
  "language_info": {
   "codemirror_mode": {
    "name": "ipython",
    "version": 3
   },
   "file_extension": ".py",
   "mimetype": "text/x-python",
   "name": "python",
   "nbconvert_exporter": "python",
   "pygments_lexer": "ipython3",
   "version": "3.9.0"
  }
 },
 "nbformat": 4,
 "nbformat_minor": 5
}
